{
 "cells": [
  {
   "cell_type": "markdown",
   "source": [
    "# OmniGenome - A Demonstration based on RNA Secondary Structure Prediction\n",
    "GitHub: https://github.com/yangheng95/OmniGenome\n",
    "OmniGenome Hub: Huggingface Spaces"
   ],
   "metadata": {
    "collapsed": false
   },
   "id": "cb8791301d129bc3"
  },
  {
   "cell_type": "markdown",
   "source": [
    "## Introduction\n",
    "OmniGenome is a comprehensive package designed for pretrained genomic foundation models (FMs) development and FM benchmark. \n",
    "OmniGenome have the following key features:\n",
    "- Automated genomic FM benchmarking on public genomic datasets\n",
    "- Scalable genomic FM training and fine-tuning on genomic tasks\n",
    "- Diversified genomic FMs implementation\n",
    "- Easy-to-use pipeline for genomic FM development with no coding expertise required\n",
    "- Accessible OmniGenome Hub for sharing FMs, datasets, and pipelines\n",
    "- Extensive documentation and tutorials for genomic FM development\n",
    "\n",
    "We begin to introduce OmniGenome by delivering a demonstration to train a model to predict RNA secondary structures. The dataset used in this demonstration is the bpRNA dataset which contains RNA sequences and their corresponding secondary structures. The secondary structure of an RNA sequence is a set of base pairs that describe the folding of the RNA molecule. The secondary structure of an RNA sequence is important for understanding the function of the RNA molecule. In this demonstration, we will train a model to predict the secondary structure of an RNA sequence given its primary sequence."
   ],
   "metadata": {
    "collapsed": false
   },
   "id": "e6ba6af13c774056"
  },
  {
   "cell_type": "markdown",
   "source": [
    "## Requirements\n",
    "OmniGenome requires the following recommended dependencies:\n",
    "- Python 3.9+\n",
    "- PyTorch 2.0.0+\n",
    "- Transformers 4.37.0+\n",
    "- Pandas 1.3.3+\n",
    "- Others in case of specific tasks"
   ],
   "metadata": {
    "collapsed": false
   },
   "id": "d27e521782ae2e1"
  },
  {
   "cell_type": "markdown",
   "source": [
    "## Fine-tuning Genomic FMs for RNA Secondary Structure Prediction"
   ],
   "metadata": {
    "collapsed": false
   },
   "id": "3c9549d261227cd9"
  },
  {
   "cell_type": "markdown",
   "source": [
    "### Step 1: Import Libraries"
   ],
   "metadata": {
    "collapsed": false
   },
   "id": "663dd5c83138b645"
  },
  {
   "cell_type": "code",
   "source": [
    "import autocuda\n",
    "import torch\n",
    "from metric_visualizer import MetricVisualizer\n",
    "\n",
    "from omnigenome import OmniGenomeDatasetForTokenClassification\n",
    "from omnigenome import ClassificationMetric\n",
    "from omnigenome import OmniSingleNucleotideTokenizer, OmniKmersTokenizer\n",
    "from omnigenome import OmniGenomeModelForTokenClassification\n",
    "from omnigenome import Trainer"
   ],
   "metadata": {
    "collapsed": false,
    "ExecuteTime": {
     "end_time": "2024-06-03T18:04:24.471912Z",
     "start_time": "2024-06-03T18:04:20.281257Z"
    }
   },
   "id": "ca34214dcffab840",
   "execution_count": 2,
   "outputs": []
  },
  {
   "cell_type": "markdown",
   "source": [
    "### Step 2: Define and Initialize the Tokenizer"
   ],
   "metadata": {
    "collapsed": false
   },
   "id": "7503b044b1583f95"
  },
  {
   "cell_type": "code",
   "source": [
    "# Predefined dataset label mapping\n",
    "label2id = {\"(\": 0, \")\": 1, \".\": 2}\n",
    "\n",
    "# The is FM is exclusively powered by the OmniGenome package\n",
    "model_name_or_path = \"anonymous8/OmniGenome-52M\"\n",
    "\n",
    "# Generally, we use the tokenizers from transformers library, such as AutoTokenizer\n",
    "# tokenizer = AutoTokenizer.from_pretrained(model_name_or_path)\n",
    "\n",
    "# However, OmniGenome provides specialized tokenizers for genomic data, such as single nucleotide tokenizer and k-mers tokenizer\n",
    "# we can force the tokenizer to be used in the model\n",
    "tokenizer = OmniSingleNucleotideTokenizer.from_pretrained(model_name_or_path)"
   ],
   "metadata": {
    "collapsed": false,
    "ExecuteTime": {
     "end_time": "2024-06-03T18:04:27.840845Z",
     "start_time": "2024-06-03T18:04:24.472913Z"
    }
   },
   "id": "16024cfe02062f96",
   "execution_count": 3,
   "outputs": []
  },
  {
   "cell_type": "markdown",
   "source": [
    "### Step 3: Define and Initialize the Model"
   ],
   "metadata": {
    "collapsed": false
   },
   "id": "8595c35b48e02524"
  },
  {
   "cell_type": "code",
   "source": [
    "# We have implemented a diverse set of genomic models in OmniGenome, please refer to the documentation for more details\n",
    "ssp_model = OmniGenomeModelForTokenClassification(\n",
    "    model_name_or_path,\n",
    "    tokenizer=tokenizer,\n",
    "    label2id=label2id,\n",
    ")"
   ],
   "metadata": {
    "collapsed": false,
    "ExecuteTime": {
     "end_time": "2024-06-03T18:04:28.344937Z",
     "start_time": "2024-06-03T18:04:27.841934Z"
    }
   },
   "id": "1320999dd4bdeafd",
   "execution_count": 4,
   "outputs": []
  },
  {
   "cell_type": "markdown",
   "source": [
    "### Step 4: Define and Load the Dataset"
   ],
   "metadata": {
    "collapsed": false
   },
   "id": "8519de4909b09ace"
  },
  {
   "cell_type": "code",
   "source": [
    "# necessary hyperparameters\n",
    "epochs = 1\n",
    "learning_rate = 2e-5\n",
    "weight_decay = 1e-5\n",
    "batch_size = 8\n",
    "max_length = 512\n",
    "seeds = [45]  # Each seed will be used for one run\n",
    "\n",
    "\n",
    "# Load the dataset according to the path\n",
    "train_file = \"toy_datasets/train.json\"\n",
    "test_file = \"toy_datasets/test.json\"\n",
    "valid_file = \"toy_datasets/valid.json\"\n",
    "\n",
    "train_set = OmniGenomeDatasetForTokenClassification(\n",
    "    data_source=train_file,\n",
    "    tokenizer=tokenizer,\n",
    "    label2id=label2id,\n",
    "    max_length=max_length,\n",
    ")\n",
    "test_set = OmniGenomeDatasetForTokenClassification(\n",
    "    data_source=test_file,\n",
    "    tokenizer=tokenizer,\n",
    "    label2id=label2id,\n",
    "    max_length=max_length,\n",
    ")\n",
    "valid_set = OmniGenomeDatasetForTokenClassification(\n",
    "    data_source=valid_file,\n",
    "    tokenizer=tokenizer,\n",
    "    label2id=label2id,\n",
    "    max_length=max_length,\n",
    ")\n",
    "train_loader = torch.utils.data.DataLoader(\n",
    "    train_set, batch_size=batch_size, shuffle=True\n",
    ")\n",
    "valid_loader = torch.utils.data.DataLoader(valid_set, batch_size=batch_size)\n",
    "test_loader = torch.utils.data.DataLoader(test_set, batch_size=batch_size)"
   ],
   "metadata": {
    "collapsed": false,
    "ExecuteTime": {
     "end_time": "2024-06-03T18:04:29.680553Z",
     "start_time": "2024-06-03T18:04:28.348449Z"
    }
   },
   "id": "3e25475aaf00da22",
   "execution_count": 5,
   "outputs": []
  },
  {
   "cell_type": "markdown",
   "source": [
    "### Step 5: Define the Metrics\n",
    "We have implemented a diverse set of genomic metrics in OmniGenome, please refer to the documentation for more details.\n",
    "Users can also define their own metrics by inheriting the `OmniGenomeMetric` class. \n",
    "The `compute_metrics` can be a metric function list and each metric function should return a dictionary of metrics."
   ],
   "metadata": {
    "collapsed": false
   },
   "id": "5dc517064fcbaa9a"
  },
  {
   "cell_type": "code",
   "source": [
    "compute_metrics = [\n",
    "    ClassificationMetric(ignore_y=-100).accuracy_score,\n",
    "    ClassificationMetric(ignore_y=-100, average=\"macro\").f1_score,\n",
    "]"
   ],
   "metadata": {
    "collapsed": false,
    "ExecuteTime": {
     "end_time": "2024-06-03T18:04:29.696572Z",
     "start_time": "2024-06-03T18:04:29.682553Z"
    }
   },
   "id": "8d610fa6cf0ab60d",
   "execution_count": 6,
   "outputs": []
  },
  {
   "cell_type": "markdown",
   "source": [
    "## Step 6: Define and Initialize the Trainer"
   ],
   "metadata": {
    "collapsed": false
   },
   "id": "cc7248c83eb073c4"
  },
  {
   "cell_type": "code",
   "source": [
    "# Initialize the MetricVisualizer for logging the metrics\n",
    "mv = MetricVisualizer(name=\"OmniGenome-52M-SSP\")\n",
    "\n",
    "for seed in seeds:\n",
    "    optimizer = torch.optim.AdamW(\n",
    "        ssp_model.parameters(), lr=learning_rate, weight_decay=weight_decay\n",
    "    )\n",
    "    trainer = Trainer(\n",
    "        model=ssp_model,\n",
    "        train_loader=train_loader,\n",
    "        eval_loader=valid_loader,\n",
    "        test_loader=test_loader,\n",
    "        batch_size=batch_size,\n",
    "        epochs=epochs,\n",
    "        optimizer=optimizer,\n",
    "        compute_metrics=compute_metrics,\n",
    "        seeds=seed,\n",
    "        device=autocuda.auto_cuda(),\n",
    "    )\n",
    "\n",
    "    metrics = trainer.train()\n",
    "    test_metrics = metrics[\"test\"][-1]\n",
    "    mv.log(model_name_or_path.split(\"/\")[-1], \"F1\", test_metrics[\"f1_score\"])\n",
    "    mv.log(\n",
    "        model_name_or_path.split(\"/\")[-1],\n",
    "        \"Accuracy\",\n",
    "        test_metrics[\"accuracy_score\"],\n",
    "    )\n",
    "    print(metrics)\n",
    "    mv.summary()"
   ],
   "metadata": {
    "collapsed": false,
    "ExecuteTime": {
     "end_time": "2024-06-03T18:05:55.832885Z",
     "start_time": "2024-06-03T18:04:29.697573Z"
    }
   },
   "id": "f1e8e0a121f14c82",
   "execution_count": 7,
   "outputs": []
  },
  {
   "cell_type": "markdown",
   "source": [
    "### Step 7. Experimental Results Visualization\n",
    "The experimental results are visualized in the following plots. The plots show the F1 score and accuracy of the model on the test set for each run. The average F1 score and accuracy are also shown."
   ],
   "metadata": {
    "collapsed": false
   },
   "id": "76741d8e43edad54"
  },
  {
   "cell_type": "markdown",
   "source": [
    "|### Step 8. Model Checkpoint for Sharing\n",
    "The model checkpoint can be saved and shared with others for further use. The model checkpoint can be loaded using the following code:"
   ],
   "metadata": {
    "collapsed": false
   },
   "id": "4884016302230133"
  },
  {
   "cell_type": "markdown",
   "source": [
    "**Regular checkpointing and resuming are good practices to save the model at different stages of training.**"
   ],
   "metadata": {
    "collapsed": false
   },
   "id": "d7fd53ee0cb763d3"
  },
  {
   "cell_type": "code",
   "source": [
    "path_to_save = \"OmniGenome-52M-SSP\"\n",
    "ssp_model.save(path_to_save, overwrite=True)\n",
    "\n",
    "# Load the model checkpoint\n",
    "ssp_model = ssp_model.load(path_to_save)\n",
    "results = ssp_model.inference(\"CAGUGCCGAGGCCACGCGGAGAACGAUCGAGGGUACAGCACUA\")\n",
    "print(results[\"predictions\"])\n",
    "print(\"logits:\", results[\"logits\"])"
   ],
   "metadata": {
    "collapsed": false,
    "ExecuteTime": {
     "end_time": "2024-06-03T18:05:56.381955Z",
     "start_time": "2024-06-03T18:05:55.833888Z"
    }
   },
   "id": "76f033919c69bde4",
   "execution_count": 8,
   "outputs": []
  },
  {
   "cell_type": "markdown",
   "source": [
    "\n",
    "# What if someone doesn't know how to initialize the model?"
   ],
   "metadata": {
    "collapsed": false
   },
   "id": "a21a8bad49fc08b9"
  },
  {
   "cell_type": "code",
   "source": [
    "# We can load the model checkpoint using the ModelHub\n",
    "from omnigenome import ModelHub\n",
    "\n",
    "ssp_model = ModelHub.load(\"OmniGenome-52M-SSP\")\n",
    "results = ssp_model.inference(\"CAGUGCCGAGGCCACGCGGAGAACGAUCGAGGGUACAGCACUA\")\n",
    "print(results[\"predictions\"])\n",
    "print(\"logits:\", results[\"logits\"])"
   ],
   "metadata": {
    "collapsed": false,
    "ExecuteTime": {
     "end_time": "2024-06-03T18:05:56.994576Z",
     "start_time": "2024-06-03T18:05:56.382956Z"
    }
   },
   "id": "49781e637e711ddf",
   "execution_count": 9,
   "outputs": []
  },
  {
   "cell_type": "markdown",
   "source": [
    "## Step 8. Model Inference"
   ],
   "metadata": {
    "collapsed": false
   },
   "id": "455cc1d9fe4fa2b6"
  },
  {
   "cell_type": "code",
   "source": [
    "examples = [\n",
    "    \"GCUGGGAUGUUGGCUUAGAAGCAGCCAUCAUUUAAAGAGUGCGUAACAGCUCACCAGC\",\n",
    "    \"AUCUGUACUAGUUAGCUAACUAGAUCUGUAUCUGGCGGUUCCGUGGAAGAACUGACGUGUUCAUAUUCCCGACCGCAGCCCUGGGAGACGUCUCAGAGGC\",\n",
    "]\n",
    "\n",
    "results = ssp_model.inference(examples)\n",
    "structures = [\"\".join(prediction) for prediction in results[\"predictions\"]]\n",
    "print(results)\n",
    "print(structures)"
   ],
   "metadata": {
    "collapsed": false,
    "ExecuteTime": {
     "end_time": "2024-06-03T18:05:57.073147Z",
     "start_time": "2024-06-03T18:05:56.995580Z"
    }
   },
   "id": "235bbab39e1f23a4",
   "execution_count": 10,
   "outputs": []
  },
  {
   "cell_type": "markdown",
   "source": [
    "### Step 9. Pipeline Creation\n",
    "The OmniGenome package provides pipelines for genomic FM development. The pipeline can be used to train, fine-tune, and evaluate genomic FMs. The pipeline can be used with a single command to train a genomic FM on a dataset. The pipeline can also be used to fine-tune a pre-trained genomic FM on a new dataset. The pipeline can be used to evaluate the performance of a genomic FM on a dataset. The pipeline can be used to generate predictions using a genomic FM."
   ],
   "metadata": {
    "collapsed": false
   },
   "id": "eb99207fb37d0617"
  },
  {
   "cell_type": "code",
   "source": [
    "from omnigenome import Pipeline, PipelineHub\n",
    "\n",
    "pipeline = Pipeline(\n",
    "    name=\"OmniGenome-52M-SSP-Pipeline\",\n",
    "    # model_name_or_path=\"OmniGenome-52M-SSP\",  # The model name or path can be specified\n",
    "    # tokenizer=\"OmniGenome-52M-SSP\",  # The tokenizer can be specified\n",
    "    model_name_or_path=ssp_model,\n",
    "    tokenizer=ssp_model.tokenizer,\n",
    "    datasets={\n",
    "        \"train\": \"toy_datasets/train.json\",\n",
    "        \"test\": \"toy_datasets/test.json\",\n",
    "        \"valid\": \"toy_datasets/valid.json\",\n",
    "    },\n",
    "    trainer=trainer,\n",
    "    device=ssp_model.model.device,\n",
    ")"
   ],
   "metadata": {
    "collapsed": false,
    "ExecuteTime": {
     "end_time": "2024-06-03T18:05:57.088656Z",
     "start_time": "2024-06-03T18:05:57.076147Z"
    }
   },
   "id": "43fe9fdfb572e05c",
   "execution_count": 11,
   "outputs": []
  },
  {
   "cell_type": "markdown",
   "source": [
    "### Using the Pipeline"
   ],
   "metadata": {
    "collapsed": false
   },
   "id": "73f32771d90b4f70"
  },
  {
   "cell_type": "code",
   "source": [
    "results = pipeline(examples[0])\n",
    "print(results)\n",
    "\n",
    "pipeline.train()\n",
    "\n",
    "pipeline.save(\"OmniGenome-52M-SSP-Pipeline\", overwrite=True)\n",
    "\n",
    "pipeline = PipelineHub.load(\"OmniGenome-52M-SSP-Pipeline\")\n",
    "results = pipeline(examples)\n",
    "print(results)"
   ],
   "metadata": {
    "collapsed": false,
    "jupyter": {
     "is_executing": true
    },
    "ExecuteTime": {
     "start_time": "2024-06-03T18:05:57.092658Z"
    }
   },
   "id": "838493d3cb0ab98d",
   "execution_count": null,
   "outputs": []
  },
  {
   "cell_type": "markdown",
   "source": [
    "## Web Demo for RNA Secondary Structure Prediction"
   ],
   "metadata": {
    "collapsed": false
   },
   "id": "3177cc9c4b0f1895"
  },
  {
   "cell_type": "code",
   "source": [
    "import numpy as np\n",
    "import json\n",
    "import gradio as gr\n",
    "import RNA\n",
    "\n",
    "\n",
    "def ss_validity_loss(rna_strct):\n",
    "    dotCount = 0\n",
    "    leftCount = 0\n",
    "    rightCount = 0\n",
    "    unmatched_positions = []  # 用于记录未匹配括号的位置\n",
    "    uncoherentCount = 0\n",
    "    prev_char = \"\"\n",
    "    for i, char in enumerate(rna_strct):\n",
    "        if prev_char != char:\n",
    "            uncoherentCount += 1\n",
    "        prev_char = char\n",
    "\n",
    "        if char == \"(\":\n",
    "            leftCount += 1\n",
    "            unmatched_positions.append(i)  # 记录左括号位置\n",
    "        elif char == \")\":\n",
    "            if leftCount > 0:\n",
    "                leftCount -= 1\n",
    "                unmatched_positions.pop()  # 移除最近的左括号位置\n",
    "            else:\n",
    "                rightCount += 1\n",
    "                unmatched_positions.append(i)  # 记录右括号位置\n",
    "        elif char == \".\":\n",
    "            dotCount += 1\n",
    "        else:\n",
    "            raise ValueError(f\"Invalid character {char} in RNA structure\")\n",
    "    match_loss = (leftCount + rightCount) / (len(rna_strct) - dotCount + 1e-5)\n",
    "    return match_loss\n",
    "\n",
    "\n",
    "def find_invalid_ss_positions(rna_strct):\n",
    "    left_brackets = []  # 存储左括号的位置\n",
    "    right_brackets = []  # 存储未匹配的右括号的位置\n",
    "    for i, char in enumerate(rna_strct):\n",
    "        if char == \"(\":\n",
    "            left_brackets.append(i)\n",
    "        elif char == \")\":\n",
    "            if left_brackets:\n",
    "                left_brackets.pop()  # 找到匹配的左括号，从列表中移除\n",
    "            else:\n",
    "                right_brackets.append(i)  # 没有匹配的左括号，记录右括号的位置\n",
    "    return left_brackets + right_brackets\n",
    "\n",
    "\n",
    "def fold(rna_sequence):\n",
    "    ref_struct = RNA.fold(rna_sequence)[0]\n",
    "    RNA.svg_rna_plot(rna_sequence, ref_struct, f\"real_structure.svg\")\n",
    "\n",
    "    pred_structure = \"\".join(ssp_model.inference(rna_sequence)[\"predictions\"])\n",
    "    print(pred_structure)\n",
    "    if ss_validity_loss(pred_structure) == 0:\n",
    "        RNA.svg_rna_plot(rna_sequence, pred_structure, f\"predicted_structure.svg\")\n",
    "        return (\n",
    "            ref_struct,\n",
    "            pred_structure,\n",
    "            \"real_structure.svg\",\n",
    "            \"predicted_structure.svg\",\n",
    "        )\n",
    "    else:\n",
    "        # return blank image of predicted structure\n",
    "        # generate a blank svg image\n",
    "        with open(\"predicted_structure.svg\", \"w\") as f:\n",
    "            f.write(\n",
    "                '<svg xmlns=\"http://www.w3.org/2000/svg\" width=\"100\" height=\"100\"></svg>'\n",
    "            )\n",
    "        return (\n",
    "            ref_struct,\n",
    "            pred_structure,\n",
    "            \"real_structure.svg\",\n",
    "            \"predicted_structure.svg\",\n",
    "        )\n",
    "\n",
    "\n",
    "def repair_rna_structure(rna_sequence, invalid_struct):\n",
    "    try:\n",
    "        invalid_ss_positions = find_invalid_ss_positions(invalid_struct)\n",
    "        for pos_idx in invalid_ss_positions:\n",
    "            if invalid_struct[pos_idx] == \"(\":\n",
    "                invalid_struct = (\n",
    "                    invalid_struct[:pos_idx] + \".\" + invalid_struct[pos_idx + 1 :]\n",
    "                )\n",
    "            else:\n",
    "                invalid_struct = (\n",
    "                    invalid_struct[:pos_idx] + \".\" + invalid_struct[pos_idx + 1 :]\n",
    "                )\n",
    "\n",
    "        best_pred_struct = invalid_struct\n",
    "        RNA.svg_rna_plot(rna_sequence, best_pred_struct, f\"best_pred_struct.svg\")\n",
    "        return best_pred_struct, \"best_pred_struct.svg\"\n",
    "    except Exception as e:\n",
    "        with open(\"best_pred_struct.svg\", \"w\") as f:\n",
    "            f.write(\n",
    "                '<svg xmlns=\"http://www.w3.org/2000/svg\" width=\"100\" height=\"100\"></svg>'\n",
    "            )\n",
    "        return e, \"best_pred_struct.svg\"\n",
    "\n",
    "\n",
    "def sample_rna_sequence():\n",
    "    example = examples[np.random.randint(0, len(examples))]\n",
    "    RNA.svg_rna_plot(example[\"seq\"], example[\"label\"], f\"annotated_structure.svg\")\n",
    "\n",
    "    return example[\"seq\"], example[\"label\"], \"annotated_structure.svg\"\n",
    "\n",
    "\n",
    "# 定义界面\n",
    "with gr.Blocks() as demo:\n",
    "    gr.Markdown(\"### RNA Secondary Structure Prediction\")\n",
    "\n",
    "    with gr.Row():\n",
    "        with gr.Row():\n",
    "            rna_input = gr.Textbox(\n",
    "                label=\"RNA Sequence\", placeholder=\"Enter RNA sequence here...\"\n",
    "            )\n",
    "        with gr.Row():\n",
    "            strcut_input = gr.Textbox(\n",
    "                label=\"Annotated Secondary Structure\",\n",
    "                placeholder=\"Enter RNA secondary structure here...\",\n",
    "            )\n",
    "\n",
    "    with gr.Row():\n",
    "        #     examples = [\n",
    "        #     [\"GCGUCACACCGGUGAAGUCGCGCGUCACACCGGUGAAGUCGC\"],\n",
    "        #     [\"GCUGGGAUGUUGGCUUAGAAGCAGCCAUCAUUUAAAGAGUGCGUAACAGCUCACCAGCGCUGGGAUGUUGGCUUAGAAGCAGCCAUCAUUUAAAGAGUGCGUAACAGCUCACCAGC\"],\n",
    "        #     [\"GGCUGGUCCGAGUGCAGUGGUGUUUACAACUAAUUGAUCACAACCAGUUACAGAUUUCUUUGUUCCUUCUCCACUCCCACUGCUUCACUUGACUAGCCUU\"],\n",
    "        # ]\n",
    "        #     gr.Examples(examples=examples, label=\"Examples\", inputs=[rna_input])\n",
    "        with open(\"toy_datasets/test.json\", \"r\") as f:\n",
    "            examples = []\n",
    "            for line in f:\n",
    "                examples.append(json.loads(line))\n",
    "\n",
    "        sample_button = gr.Button(\"Sample a RNA Sequence from RNAStrand2 testset\")\n",
    "\n",
    "    with gr.Row():\n",
    "        submit_button = gr.Button(\"Run Prediction\")\n",
    "\n",
    "    with gr.Row():\n",
    "        ref_structure_output = gr.Textbox(\n",
    "            label=\"Secondary Structure by ViennaRNA\", interactive=False\n",
    "        )\n",
    "\n",
    "    with gr.Row():\n",
    "        pred_structure_output = gr.Textbox(\n",
    "            label=\"Secondary Structure by Model\", interactive=False\n",
    "        )\n",
    "\n",
    "    with gr.Row():\n",
    "        anno_structure_output = gr.Image(\n",
    "            label=\"Annotated Secondary Structure\", show_share_button=True\n",
    "        )\n",
    "        real_image = gr.Image(\n",
    "            label=\"Secondary Structure by ViennaRNA\", show_share_button=True\n",
    "        )\n",
    "        predicted_image = gr.Image(\n",
    "            label=\"Secondary Structure by Model\", show_share_button=True\n",
    "        )\n",
    "\n",
    "    with gr.Row():\n",
    "        repair_button = gr.Button(\"Run Prediction Repair\")\n",
    "\n",
    "    submit_button.click(\n",
    "        fn=fold,\n",
    "        inputs=rna_input,\n",
    "        outputs=[\n",
    "            ref_structure_output,\n",
    "            pred_structure_output,\n",
    "            real_image,\n",
    "            predicted_image,\n",
    "        ],\n",
    "    )\n",
    "\n",
    "    repair_button.click(\n",
    "        fn=repair_rna_structure,\n",
    "        inputs=[rna_input, pred_structure_output],\n",
    "        outputs=[pred_structure_output, predicted_image],\n",
    "    )\n",
    "\n",
    "    sample_button.click(\n",
    "        fn=sample_rna_sequence, outputs=[rna_input, strcut_input, anno_structure_output]\n",
    "    )\n",
    "demo.launch()"
   ],
   "metadata": {
    "collapsed": false,
    "ExecuteTime": {
     "end_time": "2024-06-03T18:09:59.176969Z",
     "start_time": "2024-06-03T18:09:58.593136Z"
    }
   },
   "id": "434d3f3a68737ff1",
   "execution_count": 2,
   "outputs": []
  },
  {
   "cell_type": "markdown",
   "source": [
    "### Conclusion\n",
    "In this demonstration, we have shown how to fine-tune a genomic foundation model for RNA secondary structure prediction using the OmniGenome package. We have also shown how to use the trained model for inference and how to create a web demo for RNA secondary structure prediction. We hope this demonstration will help you get started with genomic foundation model development using OmniGenome."
   ],
   "metadata": {
    "collapsed": false
   },
   "id": "a65734ef8e8d8696"
  },
  {
   "cell_type": "code",
   "source": [],
   "metadata": {
    "collapsed": false,
    "jupyter": {
     "is_executing": true
    }
   },
   "id": "9615fc02b5260f8a",
   "execution_count": null,
   "outputs": []
  }
 ],
 "metadata": {
  "kernelspec": {
   "display_name": "Python 3",
   "language": "python",
   "name": "python3"
  },
  "language_info": {
   "codemirror_mode": {
    "name": "ipython",
    "version": 2
   },
   "file_extension": ".py",
   "mimetype": "text/x-python",
   "name": "python",
   "nbconvert_exporter": "python",
   "pygments_lexer": "ipython2",
   "version": "2.7.6"
  }
 },
 "nbformat": 4,
 "nbformat_minor": 5
}
